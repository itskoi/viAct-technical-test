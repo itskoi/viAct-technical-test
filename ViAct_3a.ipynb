{
  "nbformat": 4,
  "nbformat_minor": 0,
  "metadata": {
    "colab": {
      "provenance": []
    },
    "kernelspec": {
      "name": "python3",
      "display_name": "Python 3"
    },
    "language_info": {
      "name": "python"
    }
  },
  "cells": [
    {
      "cell_type": "markdown",
      "source": [
        "## Question 3:\n",
        "(a) Create a parser to read class hierarchy files and a data structure to efficiently (minimise time complexity) perform the following operations.\n",
        "- Find all siblings class of a class name\n",
        "- Find the parent class of a class name\n",
        "- Find all ancestor classes of a class name\n",
        "- Find if both class 1 and class 2 belong to the same ancestor class(es)\n",
        "\n",
        "Definition:\n",
        "\n",
        "- Parent class: immediate superclass (up to 1 level in hierarchy)\n",
        "- Ancestor class: all the superclasses (including parent of the parent class)\n",
        "- Sibling class: classes that belong to the same parent class\n",
        "\n",
        "You are provided with two files:\n",
        "\n",
        "- `hierarchy.txt`: each line consists of a parent class and a child class\n",
        "- `id_to_name.txt`: each line consists of a category id and its name\n",
        "---\n",
        "I solve this question by using **Disjoint set** with some customization.\n"
      ],
      "metadata": {
        "id": "BiSfQN9Vuv6H"
      }
    },
    {
      "cell_type": "code",
      "source": [
        "class DisjointSet:\n",
        "\tdef __init__(self, n):\n",
        "\t\t# Ranking mechanism for boost performance of Disjoint set\n",
        "\t\tself.rank = [1] * n\n",
        "\n",
        "\t\t# \"disjoint set\" ancestor which used to check if two sets are disjoint or not.\n",
        "\t\tself.ancestor = [i for i in range(n)]\n",
        "\n",
        "\t\t# Store parent of node i\n",
        "\t\tself.parent = [i for i in range(n)]\n",
        "\n",
        "\t\t# Store children of node i\n",
        "\t\tself.childs = dict()\n",
        "\n",
        "\n",
        "\t# Finds set of given item x\n",
        "\tdef find_ancestor(self, x):\n",
        "\n",
        "\t\t# Finds the representative of the set\n",
        "\t\t# that x is an element of\n",
        "\t\tif (self.ancestor[x] != x):\n",
        "\n",
        "\t\t\t# Path compression technique ~ caching\n",
        "\t\t\tself.ancestor[x] = self.find_ancestor(self.ancestor[x])\n",
        "\n",
        "\t\treturn self.ancestor[x]\n",
        "\n",
        "\t# (***) Find all ancestor nodes of x\n",
        "\t# We can further improve this by using caching method\n",
        "\tdef find_ancestors(self, x):\n",
        "\t\tancestors = [self.parent[x]]\n",
        "\t\tcrawl_node = self.parent[x]\n",
        "\t\twhile(crawl_node != self.parent[crawl_node]):\n",
        "\t\t\tcrawl_node = self.parent[crawl_node]\n",
        "\t\t\tancestors.append(crawl_node)\n",
        "\n",
        "\t\treturn ancestors\n",
        "\n",
        "\t# (***) Find all siblings nodes of x\n",
        "\t# Siblings of x = children of x's parent ecepting x\n",
        "\tdef find_siblings(self, x):\n",
        "\t\tparent_x = self.find_parent(x)\n",
        "\t\treturn set(self.childs[parent_x])  - set([x])\n",
        "\n",
        "\t# (***) Find the parent node of x\n",
        "\tdef find_parent(self, x):\n",
        "\t\treturn self.parent[x]\n",
        "\n",
        "\tdef is_disjoint(self, x, y):\n",
        "\t\treturn self.find_ancestor(x) != self.find_ancestor(y)\n",
        "\n",
        "\t# Do union of two sets represented\n",
        "\t# by x and y.\n",
        "\tdef union(self, parent_node, child_node):\n",
        "\t\t# Set parent child relationship\n",
        "\t\tself.parent[child_node] = parent_node\n",
        "\n",
        "\t\t# Add this child to list of children of parent_node\n",
        "\t\tif parent_node not in self.childs:\n",
        "\t\t\tself.childs[parent_node] = [child_node]\n",
        "\t\telse:\n",
        "\t\t\tself.childs[parent_node].append(child_node)\n",
        "\n",
        "\t\t# Find current sets of x and y\n",
        "\t\tparent_set = self.find_ancestor(parent_node)\n",
        "\t\tchild_set = self.find_ancestor(child_node)\n",
        "\n",
        "\t\t# If they are already in same set\n",
        "\t\tif parent_set == child_set:\n",
        "\t\t\treturn\n",
        "\n",
        "\t\tif self.rank[parent_set] < self.rank[child_set]:\n",
        "\t\t\tself.ancestor[parent_set] = child_set\n",
        "\n",
        "\t\telif self.rank[parent_set] > self.rank[child_set]:\n",
        "\t\t\tself.ancestor[child_set] = parent_set\n",
        "\n",
        "\t\t# If ranks are same, then move y under\n",
        "\t\t# x (doesn't matter which one goes where)\n",
        "\t\t# and increment rank of x's tree\n",
        "\t\telse:\n",
        "\t\t\tself.ancestor[child_set] = parent_set\n",
        "\t\t\tself.rank[child_set] = self.rank[parent_set] + 1\n"
      ],
      "metadata": {
        "id": "wZa8QsuJu-xo"
      },
      "execution_count": null,
      "outputs": []
    },
    {
      "cell_type": "code",
      "source": [
        "class Parser:\n",
        "    def __init__(self, hierachy_path, id_to_name_path):\n",
        "        # ==== PATH ====\n",
        "        self.hierachy_path = hierachy_path\n",
        "        self.id_to_name_path = id_to_name_path\n",
        "\n",
        "        # Id (of class) <-> Name (of class)\n",
        "        self.id2class = dict()\n",
        "        self.class2id = dict()\n",
        "\n",
        "        # Id (of class) <-> Node (in disjoint set)\n",
        "        self.id2node = dict()\n",
        "        self.node2id = dict()\n",
        "\n",
        "        # ----------------------\n",
        "        self.__read_file__()\n",
        "\n",
        "    def __read_file__(self):\n",
        "        with open(self.id_to_name_path, 'r') as file:\n",
        "            lines = file.readlines()\n",
        "            self.n = len(lines)\n",
        "\n",
        "            for index, line in enumerate(lines):\n",
        "                # print(line)\n",
        "                id, class_name = line.split(\"\\t\")\n",
        "                id = id.strip()\n",
        "                class_name = class_name.strip()\n",
        "                # print(id, class_name)\n",
        "                self.id2class[id] = class_name\n",
        "                self.class2id[class_name] = id\n",
        "\n",
        "                self.id2node[id] = index\n",
        "                self.node2id[index] = id\n",
        "        self.__build_djset__()\n",
        "\n",
        "    def __build_djset__(self):\n",
        "        # Create disjoint set\n",
        "        self.disjoint_set = DisjointSet(self.n)\n",
        "\n",
        "        with open(self.hierachy_path, \"r\") as file:\n",
        "            lines = file.readlines()\n",
        "\n",
        "            for line in lines:\n",
        "                parent, child = line.split()\n",
        "                parent = parent.strip()\n",
        "                child = child.strip()\n",
        "                parent_node, child_node = self.id2node[parent], self.id2node[child]\n",
        "\n",
        "                # Add to disjoint set\n",
        "                self.disjoint_set.union(parent_node=parent_node, child_node=child_node)\n",
        "\n",
        "    def __name2node(self, class_name):\n",
        "        return self.id2node[self.class2id[class_name]]\n",
        "    def __node2name(self, node):\n",
        "        return self.id2class[self.node2id[node]]\n",
        "\n",
        "    def node2name(self, node):\n",
        "        return self.__node2name(node)\n",
        "    # (***) Find all siblings class of a class name\n",
        "    def find_siblings(self, class_name):\n",
        "        class_node = self.__name2node(class_name)\n",
        "        siblings = self.disjoint_set.find_siblings(class_node)\n",
        "        return [(self.node2id[x], self.__node2name(x)) for x in siblings]\n",
        "\n",
        "    # (***) Find the parent class of a class name\n",
        "    def find_parent(self, class_name):\n",
        "        class_node = self.__name2node(class_name)\n",
        "        parent_node = self.disjoint_set.find_parent(class_node)\n",
        "        return (self.node2id[parent_node], self.__node2name(parent_node))\n",
        "\n",
        "    # (***) Find all ancestor classes of a class name\n",
        "    def find_ancestors(self, class_name):\n",
        "        class_node = self.__name2node(class_name)\n",
        "        ancestors = self.disjoint_set.find_ancestors(class_node)\n",
        "        return [(self.node2id[x], self.__node2name(x)) for x in ancestors]\n",
        "\n",
        "    # (***) Find all common ancestor classes of both class 1 and class 2\n",
        "    def same_ancestor(self, class_name_1, class_name_2):\n",
        "        class_node_1 = self.__name2node(class_name_1)\n",
        "        class_node_2 = self.__name2node(class_name_2)\n",
        "\n",
        "        same_ancestor = not self.disjoint_set.is_disjoint(class_node_1, class_node_2)\n",
        "\n",
        "        if not same_ancestor:\n",
        "            return set()\n",
        "\n",
        "        ancestors_1 = set(self.find_ancestors(class_name_1))\n",
        "        ancestors_2 = set(self.find_ancestors(class_name_2))\n",
        "\n",
        "        intersect_set = ancestors_1.intersection(ancestors_2)\n",
        "        return intersect_set"
      ],
      "metadata": {
        "id": "efSq_tcOpDnX"
      },
      "execution_count": null,
      "outputs": []
    },
    {
      "cell_type": "code",
      "source": [
        "parser = Parser(\"hierarchy.txt\", \"id_to_name.txt\")\n",
        "# Example for each required operation:\n",
        "class_name = \"cell\""
      ],
      "metadata": {
        "id": "R3S7NeR5uvku"
      },
      "execution_count": null,
      "outputs": []
    },
    {
      "cell_type": "code",
      "source": [
        "## Find all siblings class of a class name\n",
        "print(f\"Siblings class of [{class_name}]: {parser.find_siblings(class_name)}\")"
      ],
      "metadata": {
        "colab": {
          "base_uri": "https://localhost:8080/"
        },
        "id": "-dEPQCvv0HLn",
        "outputId": "d2a2590c-33de-49d7-ff3d-7ac94cf10372"
      },
      "execution_count": null,
      "outputs": [
        {
          "output_type": "stream",
          "name": "stdout",
          "text": [
            "Siblings class of [cell]: [('n03144486', 'cubbyhole, pigeonhole'), ('n03990210', 'Post-Office box, PO Box, POB, call box, letter box')]\n"
          ]
        }
      ]
    },
    {
      "cell_type": "code",
      "source": [
        "## Find the parent class of a class name\n",
        "print(f\"Parent class of [{class_name}]: {parser.find_parent(class_name)}\")"
      ],
      "metadata": {
        "colab": {
          "base_uri": "https://localhost:8080/"
        },
        "id": "n-c-bAvn0I42",
        "outputId": "bf33d088-d934-4109-c363-b8b2141bd18f"
      },
      "execution_count": null,
      "outputs": [
        {
          "output_type": "stream",
          "name": "stdout",
          "text": [
            "Parent class of [cell]: ('n03080309', 'compartment')\n"
          ]
        }
      ]
    },
    {
      "cell_type": "code",
      "source": [
        "## Find all ancestor classes of a class name\n",
        "print(f\"All ancestors class(es) of [{class_name}]:\")\n",
        "parser.find_ancestors(class_name)"
      ],
      "metadata": {
        "colab": {
          "base_uri": "https://localhost:8080/"
        },
        "id": "QCQHv1tD0KFq",
        "outputId": "dd9f789b-a40f-415f-d01d-f575f4246b3d"
      },
      "execution_count": null,
      "outputs": [
        {
          "output_type": "stream",
          "name": "stdout",
          "text": [
            "All ancestors class(es) of [cell]:\n"
          ]
        },
        {
          "output_type": "execute_result",
          "data": {
            "text/plain": [
              "[('n03080309', 'compartment'),\n",
              " ('n13910384', 'space'),\n",
              " ('n13867492', 'amorphous shape'),\n",
              " ('n00027807', 'shape, form'),\n",
              " ('n00024264', 'attribute'),\n",
              " ('n00002137', 'abstraction, abstract entity'),\n",
              " ('n00001740', 'entity')]"
            ]
          },
          "metadata": {},
          "execution_count": 75
        }
      ]
    },
    {
      "cell_type": "code",
      "source": [
        "## Find if both class 1 and class 2 belong to the same ancestor class(es)\n",
        "class_name_1 = \"gym suit\"\n",
        "class_name_2 = \"cell\"\n",
        "# class_name_2 = \"running suit\"\n",
        "print(f\"Class [{class_name_1}] and class [{class_name_2}] belong to the same ancestor class(es):\")\n",
        "parser.same_ancestor(class_name_1, class_name_2)"
      ],
      "metadata": {
        "colab": {
          "base_uri": "https://localhost:8080/"
        },
        "id": "BaRDXeS40Tf0",
        "outputId": "9425d459-bb83-4b58-919a-989a7dfbd9d2"
      },
      "execution_count": null,
      "outputs": [
        {
          "output_type": "stream",
          "name": "stdout",
          "text": [
            "Class [gym suit] and class [cell] belong to the same ancestor class(es):\n"
          ]
        },
        {
          "output_type": "execute_result",
          "data": {
            "text/plain": [
              "{('n00001740', 'entity')}"
            ]
          },
          "metadata": {},
          "execution_count": 71
        }
      ]
    }
  ]
}